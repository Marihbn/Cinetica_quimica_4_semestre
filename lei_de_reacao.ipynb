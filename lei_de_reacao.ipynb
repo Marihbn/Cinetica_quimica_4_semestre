{
 "cells": [
  {
   "cell_type": "code",
   "execution_count": 1,
   "id": "a6c0cdb8-936c-43c5-805b-ca325953a521",
   "metadata": {},
   "outputs": [],
   "source": [
    "import matplotlib.pyplot as plt\n",
    "import numpy as np\n",
    "from scipy.linalg import cho_factor, cho_solve"
   ]
  },
  {
   "cell_type": "markdown",
   "id": "208591bb-81a2-41f9-be85-4fb9ab4d5abd",
   "metadata": {},
   "source": [
    "## Determinando a lei da reação"
   ]
  },
  {
   "cell_type": "markdown",
   "id": "ffda3d1f-6245-4ff2-baca-50eb00cc1095",
   "metadata": {},
   "source": [
    "A lei de reação será determinada a partir da análise da $\\frac{d[A]}{dt}$, a partir da admissão de que o sistema será ditado por uma lei de potência:\n",
    "\n",
    "$\n",
    "\\frac{d[A]}{dt} = k [A]^m [B]^n\n",
    "$\n",
    "\n",
    "Admitindo a reação:\n",
    "\n",
    "$\n",
    "A + B \\rightarrow C\n",
    "$\n",
    "\n",
    "Ou seja, será feito uma regressão linear de ordem 3 para a definição de uma função polinomial que descreva a variação temporal do númeo de partículas A $[A](t)$. Em seguida, a expressão encontrada será derivada para encontrar uma expressão para $\\frac{d[A]}{dt} (t)$."
   ]
  },
  {
   "cell_type": "code",
   "execution_count": 2,
   "id": "807edce3-9be4-40f9-800c-687c21e451be",
   "metadata": {},
   "outputs": [],
   "source": [
    "# ordem da regressão\n",
    "H = 4\n",
    "\n",
    "b = np.transpose(np.load('concentracoes_padrao.npy')[0])\n",
    "tempo = np.arange(0, len(b), 1)\n",
    "A = np.zeros(((H+1), len(b)))\n",
    "for i in range(H+1):\n",
    "    A[i] = tempo**i\n",
    "    \n",
    "A = np.transpose(A)"
   ]
  },
  {
   "cell_type": "code",
   "execution_count": 3,
   "id": "27372b11-469d-4ba9-8f8d-f9cd52a2a27d",
   "metadata": {
    "tags": []
   },
   "outputs": [
    {
     "data": {
      "text/plain": [
       "array([100,  99,  98,  96,  95,  94,  93,  93,  93,  93,  92,  92,  91,\n",
       "        89,  87,  87,  84,  82,  82,  82,  82,  81,  80,  80,  80,  80,\n",
       "        79,  79,  79,  79,  78,  78,  76,  75,  74,  74,  73,  73,  70,\n",
       "        70,  70,  70,  70,  70,  69,  68,  67,  66,  64,  64,  63,  61,\n",
       "        61,  60,  60,  57,  55,  55,  55,  54,  54,  53,  53,  53,  52,\n",
       "        52,  52,  52,  52,  52,  52,  52,  51,  51,  51,  50,  50,  49,\n",
       "        48,  47,  46,  46,  46,  46,  46,  46,  45,  45,  45,  44,  43,\n",
       "        43,  43,  43,  43,  43,  43,  42,  41,  41,  41,  41,  41,  41,\n",
       "        41,  41,  41,  40,  40,  39,  39,  39,  38,  38,  37,  36,  36,\n",
       "        36,  35,  35,  35,  35,  35,  35,  35,  35,  35,  35,  35,  35,\n",
       "        34,  34,  34,  34,  34,  34,  34,  34,  34,  34,  34,  33,  33,\n",
       "        32,  32,  31,  31,  31,  31,  31,  30,  30,  30,  29,  29,  29,\n",
       "        29,  29,  29,  29,  29,  29,  29,  29,  29,  29,  29,  29,  29,\n",
       "        29,  29,  29,  29,  29,  29,  29,  29,  29,  28,  28,  28,  27,\n",
       "        27,  27,  27,  27,  27,  27,  27,  27,  27,  27,  27,  27,  27,\n",
       "        27,  27,  27,  27,  27,  27,  27,  27,  27,  27,  27,  27,  27,\n",
       "        27,  27,  27,  27,  27,  27,  27,  27,  27,  27,  27,  27,  27,\n",
       "        27,  27,  27,  27,  27,  26,  25,  25,  25,  25,  25,  25,  25,\n",
       "        25,  25,  25,  25,  25,  25,  25,  25,  25,  25,  25,  25,  25,\n",
       "        25,  25,  25,  25,  25,  25,  25,  25,  25,  25,  25,  25,  25,\n",
       "        25,  25,  25,  25,  25,  25,  25,  25,  25,  25,  25,  25,  25,\n",
       "        25,  25,  25,  25,  25,  25,  25,  25,  25,  25,  25,  25,  25,\n",
       "        25,  25,  25,  25,  25,  25,  25,  25,  25,  25,  25,  25,  24,\n",
       "        24,  24,  24,  24,  24,  23,  23,  23,  22,  22,  22,  22,  22,\n",
       "        22,  22,  22,  22,  22,  22,  22,  22,  22,  21,  21,  21,  21,\n",
       "        20,  20,  20,  20,  20,  20,  20,  20,  20,  19,  19,  19,  18,\n",
       "        18,  18,  18,  18,  18,  18,  18,  18,  18,  18,  18,  18,  18,\n",
       "        18,  18,  18,  18,  18,  18,  18,  18,  17,  17,  17,  17,  17,\n",
       "        17,  17,  17,  17,  17,  17,  17,  17,  17,  17,  17,  17,  17,\n",
       "        17,  17,  17,  17,  17,  17,  17,  17,  17,  17,  17,  17,  17,\n",
       "        17,  17,  17,  17,  17,  17,  17,  17,  17,  17,  17,  17,  17,\n",
       "        16,  16,  16,  16,  16,  16,  16,  16,  16,  16,  16,  16,  16,\n",
       "        16,  16,  16,  16,  16,  16,  16,  16,  16,  16,  16,  16,  16,\n",
       "        16,  16,  16,  16,  16,  16,  16,  16,  16,  16,  16,  16,  16,\n",
       "        16,  16,  15,  15,  15,  15,  15,  15,  15,  15,  15,  15,  15,\n",
       "        15,  15,  15,  15,  15,  15,  15,  15,  15,  15,  15,  15,  15,\n",
       "        15,  15,  15,  15,  15,  15,  15,  15,  15,  15,  15,  15,  15,\n",
       "        15,  15,  15,  15,  15,  15,  15,  15,  15,  15,  15,  15,  15,\n",
       "        15,  15,  15,  15,  15,  15,  15])"
      ]
     },
     "execution_count": 3,
     "metadata": {},
     "output_type": "execute_result"
    }
   ],
   "source": [
    "b"
   ]
  },
  {
   "cell_type": "code",
   "execution_count": 4,
   "id": "e625276d-5722-4511-b6e9-58b69c5a097f",
   "metadata": {},
   "outputs": [
    {
     "data": {
      "text/plain": [
       "array([[ 1.00000000e+00,  0.00000000e+00,  0.00000000e+00,\n",
       "         0.00000000e+00,  0.00000000e+00],\n",
       "       [ 1.00000000e+00,  1.00000000e+00,  1.00000000e+00,\n",
       "         1.00000000e+00,  1.00000000e+00],\n",
       "       [ 1.00000000e+00,  2.00000000e+00,  4.00000000e+00,\n",
       "         8.00000000e+00,  1.60000000e+01],\n",
       "       ...,\n",
       "       [ 1.00000000e+00,  4.98000000e+02,  2.48004000e+05,\n",
       "         1.23505992e+08,  1.37644187e+09],\n",
       "       [ 1.00000000e+00,  4.99000000e+02,  2.49001000e+05,\n",
       "         1.24251499e+08,  1.87195586e+09],\n",
       "       [ 1.00000000e+00,  5.00000000e+02,  2.50000000e+05,\n",
       "         1.25000000e+08, -1.92450944e+09]])"
      ]
     },
     "execution_count": 4,
     "metadata": {},
     "output_type": "execute_result"
    }
   ],
   "source": [
    "A"
   ]
  },
  {
   "cell_type": "code",
   "execution_count": 5,
   "id": "7bab3e96-d703-41b6-9adc-a78d97fab470",
   "metadata": {},
   "outputs": [
    {
     "name": "stderr",
     "output_type": "stream",
     "text": [
      "C:\\Users\\GABRIE~1\\AppData\\Local\\Temp/ipykernel_11620/4215769880.py:1: FutureWarning: `rcond` parameter will change to the default of machine precision times ``max(M, N)`` where M and N are the input matrix dimensions.\n",
      "To use the future default and silence this warning we advise to pass `rcond=None`, to keep using the old, explicitly pass `rcond=-1`.\n",
      "  x = np.linalg.lstsq(A, b, rcond='warn')[0]\n"
     ]
    }
   ],
   "source": [
    "x = np.linalg.lstsq(A, b, rcond='warn')[0]"
   ]
  },
  {
   "cell_type": "code",
   "execution_count": 6,
   "id": "725bd453-1d8f-48df-8f5c-6f28d75e8e66",
   "metadata": {},
   "outputs": [
    {
     "data": {
      "text/plain": [
       "<function matplotlib.pyplot.plot(*args, scalex=True, scaley=True, data=None, **kwargs)>"
      ]
     },
     "execution_count": 6,
     "metadata": {},
     "output_type": "execute_result"
    },
    {
     "data": {
      "image/png": "[encoded data removed]",
      "text/plain": [
       "<Figure size 432x288 with 1 Axes>"
      ]
     },
     "metadata": {
      "needs_background": "light"
     },
     "output_type": "display_data"
    }
   ],
   "source": [
    "conc_A = 0\n",
    "\n",
    "for i in range(H+1):\n",
    "    conc_A += x[i]*tempo**i\n",
    "\n",
    "fig = plt.figure()\n",
    "\n",
    "plt.scatter(tempo, b)\n",
    "\n",
    "plt.plot(tempo, conc_A, c='r')\n",
    "\n",
    "plt.plot"
   ]
  },
  {
   "cell_type": "code",
   "execution_count": null,
   "id": "72ca1241-c79f-47e9-ac63-ef4befc1c3c9",
   "metadata": {},
   "outputs": [],
   "source": [
    "# Setting the model\n",
    "def v(S, u_max, Km):\n",
    "    return u_max*S/(Km + S)"
   ]
  }
 ],
 "metadata": {
  "kernelspec": {
   "display_name": "ilumpy",
   "language": "python",
   "name": "ilumpy"
  },
  "language_info": {
   "codemirror_mode": {
    "name": "ipython",
    "version": 3
   },
   "file_extension": ".py",
   "mimetype": "text/x-python",
   "name": "python",
   "nbconvert_exporter": "python",
   "pygments_lexer": "ipython3",
   "version": "3.9.7"
  }
 },
 "nbformat": 4,
 "nbformat_minor": 5
}

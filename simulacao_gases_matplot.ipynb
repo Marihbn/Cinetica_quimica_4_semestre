{
 "cells": [
  {
   "cell_type": "code",
   "execution_count": 1,
   "id": "77bfcc00-1971-4c0f-98b8-477454076eb3",
   "metadata": {},
   "outputs": [],
   "source": [
    "from simulacao_gases import Sistema\n",
    "import imageio"
   ]
  },
  {
   "cell_type": "code",
   "execution_count": 2,
   "id": "5a4f42d4-40a8-4906-8507-1077c76a66e1",
   "metadata": {},
   "outputs": [],
   "source": [
    "Sistema_particulas = Sistema(100, 360000, 10, 10, 15, 10)\n",
    "\n",
    "N = 5000\n",
    "\n",
    "for i in range(N):\n",
    "    Sistema_particulas.main(0.001, 100, i)"
   ]
  },
  {
   "cell_type": "code",
   "execution_count": 3,
   "id": "7f96ee4c-ef6b-4739-9bf4-598f946f147c",
   "metadata": {},
   "outputs": [],
   "source": [
    "frames = []\n",
    "for i in range(N):\n",
    "    image = imageio.imread(f'./GIF - Simulação Gases/Imagem {i}.png')\n",
    "    frames.append(image)"
   ]
  },
  {
   "cell_type": "code",
   "execution_count": 4,
   "id": "37316069-6f80-4f90-ab57-48c0cc89065d",
   "metadata": {},
   "outputs": [],
   "source": [
    "imageio.mimsave('./simulacao.gif', # output gif\n",
    "                frames,          # array of input frames\n",
    "                duration = 0.02)         # optional: frames per second"
   ]
  },
  {
   "cell_type": "code",
   "execution_count": 42,
   "id": "07d38e84-517d-468c-9028-fffac144e8ed",
   "metadata": {},
   "outputs": [],
   "source": [
    "import numpy as np\n",
    "\n",
    "# Your NumPy array containing only 0 and 1\n",
    "my_array = np.array([[1, 0, 1], [0, 1, 0]])\n",
    "\n",
    "def escolhe_indice(matriz):\n",
    "    # Find indices where the element is 0\n",
    "    zero_indices_i, zero_indices_j = np.where(my_array == 0)\n",
    "    \n",
    "    # Check if there are any 0 elements in the array\n",
    "    if len(zero_indices_i) > 0:\n",
    "        # Choose a random index from the zero_indices\n",
    "        u = np.random.randint(0, len(zero_indices_i))\n",
    "        return (zero_indices_i[u], zero_indices_j[u])\n",
    "    else:\n",
    "        return False"
   ]
  },
  {
   "cell_type": "code",
   "execution_count": 34,
   "id": "110dd186-d545-4c9b-8e9c-6f08e7caf92a",
   "metadata": {},
   "outputs": [
    {
     "data": {
      "text/plain": [
       "(0, 1)"
      ]
     },
     "execution_count": 34,
     "metadata": {},
     "output_type": "execute_result"
    }
   ],
   "source": [
    "escolhe_indice(my_array)"
   ]
  },
  {
   "cell_type": "code",
   "execution_count": 47,
   "id": "d7e97595-1012-4187-b7bd-8c6b656c50c0",
   "metadata": {},
   "outputs": [],
   "source": [
    "my_array[-5:2, 0:2] = 5"
   ]
  },
  {
   "cell_type": "code",
   "execution_count": 48,
   "id": "8379e56b-f801-4b9e-ae0c-fbe902606b05",
   "metadata": {},
   "outputs": [
    {
     "data": {
      "text/plain": [
       "array([[5, 5, 1],\n",
       "       [5, 5, 0]])"
      ]
     },
     "execution_count": 48,
     "metadata": {},
     "output_type": "execute_result"
    }
   ],
   "source": [
    "my_array"
   ]
  },
  {
   "cell_type": "code",
   "execution_count": 49,
   "id": "45530c94-1158-4345-8c2f-14d319e662cd",
   "metadata": {},
   "outputs": [
    {
     "ename": "ValueError",
     "evalue": "low >= high",
     "output_type": "error",
     "traceback": [
      "\u001b[1;31m---------------------------------------------------------------------------\u001b[0m",
      "\u001b[1;31mValueError\u001b[0m                                Traceback (most recent call last)",
      "\u001b[1;32mC:\\Users\\GABRIE~1\\AppData\\Local\\Temp/ipykernel_4116/28096399.py\u001b[0m in \u001b[0;36m<module>\u001b[1;34m\u001b[0m\n\u001b[1;32m----> 1\u001b[1;33m \u001b[0mteste\u001b[0m \u001b[1;33m=\u001b[0m \u001b[0mSistema\u001b[0m\u001b[1;33m(\u001b[0m\u001b[1;36m100\u001b[0m\u001b[1;33m,\u001b[0m \u001b[1;36m900\u001b[0m\u001b[1;33m,\u001b[0m \u001b[1;36m10\u001b[0m\u001b[1;33m,\u001b[0m \u001b[1;36m10\u001b[0m\u001b[1;33m,\u001b[0m \u001b[1;36m15\u001b[0m\u001b[1;33m,\u001b[0m \u001b[1;36m10\u001b[0m\u001b[1;33m)\u001b[0m\u001b[1;33m\u001b[0m\u001b[1;33m\u001b[0m\u001b[0m\n\u001b[0m",
      "\u001b[1;32mC:\\JupyterLab\\Cinética Química\\simulacao_gases.py\u001b[0m in \u001b[0;36m__init__\u001b[1;34m(self, U, V, N1, N2, r1, r2)\u001b[0m\n\u001b[0;32m     73\u001b[0m \u001b[1;33m\u001b[0m\u001b[0m\n\u001b[0;32m     74\u001b[0m         \u001b[1;32mfor\u001b[0m \u001b[0m_\u001b[0m \u001b[1;32min\u001b[0m \u001b[0mrange\u001b[0m\u001b[1;33m(\u001b[0m\u001b[0mself\u001b[0m\u001b[1;33m.\u001b[0m\u001b[0mnumero_de_particulas_1\u001b[0m\u001b[1;33m)\u001b[0m\u001b[1;33m:\u001b[0m\u001b[1;33m\u001b[0m\u001b[1;33m\u001b[0m\u001b[0m\n\u001b[1;32m---> 75\u001b[1;33m             \u001b[0mraio_1\u001b[0m \u001b[1;33m=\u001b[0m \u001b[0mself\u001b[0m\u001b[1;33m.\u001b[0m\u001b[0mraio_particula_1\u001b[0m  \u001b[1;31m# Escolhe um tamanho da lista\u001b[0m\u001b[1;33m\u001b[0m\u001b[1;33m\u001b[0m\u001b[0m\n\u001b[0m\u001b[0;32m     76\u001b[0m             \u001b[0mx_geracao\u001b[0m \u001b[1;33m=\u001b[0m \u001b[0mnp\u001b[0m\u001b[1;33m.\u001b[0m\u001b[0mrandom\u001b[0m\u001b[1;33m.\u001b[0m\u001b[0mrandint\u001b[0m\u001b[1;33m(\u001b[0m\u001b[0mself\u001b[0m\u001b[1;33m.\u001b[0m\u001b[0mraio_particula_1\u001b[0m\u001b[1;33m,\u001b[0m \u001b[0mself\u001b[0m\u001b[1;33m.\u001b[0m\u001b[0mlargura\u001b[0m \u001b[1;33m-\u001b[0m \u001b[0mself\u001b[0m\u001b[1;33m.\u001b[0m\u001b[0mraio_particula_1\u001b[0m\u001b[1;33m)\u001b[0m\u001b[1;33m\u001b[0m\u001b[1;33m\u001b[0m\u001b[0m\n\u001b[0;32m     77\u001b[0m             \u001b[0my_geracao\u001b[0m \u001b[1;33m=\u001b[0m \u001b[0mnp\u001b[0m\u001b[1;33m.\u001b[0m\u001b[0mrandom\u001b[0m\u001b[1;33m.\u001b[0m\u001b[0mrandint\u001b[0m\u001b[1;33m(\u001b[0m\u001b[0mself\u001b[0m\u001b[1;33m.\u001b[0m\u001b[0mraio_particula_1\u001b[0m\u001b[1;33m,\u001b[0m \u001b[0mself\u001b[0m\u001b[1;33m.\u001b[0m\u001b[0maltura\u001b[0m \u001b[1;33m-\u001b[0m \u001b[0mself\u001b[0m\u001b[1;33m.\u001b[0m\u001b[0mraio_particula_1\u001b[0m\u001b[1;33m)\u001b[0m\u001b[1;33m\u001b[0m\u001b[1;33m\u001b[0m\u001b[0m\n",
      "\u001b[1;32mmtrand.pyx\u001b[0m in \u001b[0;36mnumpy.random.mtrand.RandomState.randint\u001b[1;34m()\u001b[0m\n",
      "\u001b[1;32m_bounded_integers.pyx\u001b[0m in \u001b[0;36mnumpy.random._bounded_integers._rand_int32\u001b[1;34m()\u001b[0m\n",
      "\u001b[1;31mValueError\u001b[0m: low >= high"
     ]
    }
   ],
   "source": [
    "teste = Sistema(100, 900, 10, 10, 15, 10)"
   ]
  },
  {
   "cell_type": "code",
   "execution_count": null,
   "id": "bc75dddd-d4be-4b27-9ab6-b3dbf9342130",
   "metadata": {},
   "outputs": [],
   "source": []
  }
 ],
 "metadata": {
  "kernelspec": {
   "display_name": "ilumpy",
   "language": "python",
   "name": "ilumpy"
  },
  "language_info": {
   "codemirror_mode": {
    "name": "ipython",
    "version": 3
   },
   "file_extension": ".py",
   "mimetype": "text/x-python",
   "name": "python",
   "nbconvert_exporter": "python",
   "pygments_lexer": "ipython3",
   "version": "3.9.7"
  }
 },
 "nbformat": 4,
 "nbformat_minor": 5
}

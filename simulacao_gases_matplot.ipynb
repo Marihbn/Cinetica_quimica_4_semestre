{
 "cells": [
  {
   "cell_type": "code",
   "execution_count": 1,
   "id": "77bfcc00-1971-4c0f-98b8-477454076eb3",
   "metadata": {},
   "outputs": [],
   "source": [
    "from simulacao_gases_matplot import Sistema\n",
    "import imageio"
   ]
  },
  {
   "cell_type": "code",
   "execution_count": 2,
   "id": "5a4f42d4-40a8-4906-8507-1077c76a66e1",
   "metadata": {},
   "outputs": [],
   "source": [
    "Sistema_particulas = Sistema(1000000, 360000, 10, 15, 15, 10)\n",
    "\n",
    "N = 5000\n",
    "\n",
    "for i in range(N):\n",
    "    Sistema_particulas.main(0.001, 100, i)"
   ]
  },
  {
   "cell_type": "code",
   "execution_count": 3,
   "id": "7f96ee4c-ef6b-4739-9bf4-598f946f147c",
   "metadata": {},
   "outputs": [],
   "source": [
    "frames = []\n",
    "for i in range(N):\n",
    "    image = imageio.imread(f'./GIF - Simulação Gases/Imagem {i}.jpg')\n",
    "    frames.append(image)"
   ]
  },
  {
   "cell_type": "code",
   "execution_count": 4,
   "id": "37316069-6f80-4f90-ab57-48c0cc89065d",
   "metadata": {},
   "outputs": [],
   "source": [
    "imageio.mimsave('./simulacao.gif', # output gif\n",
    "                frames,          # array of input frames\n",
    "                duration = 0.02)         # optional: frames per second"
   ]
  }
 ],
 "metadata": {
  "kernelspec": {
   "display_name": "ilumpy",
   "language": "python",
   "name": "ilumpy"
  },
  "language_info": {
   "codemirror_mode": {
    "name": "ipython",
    "version": 3
   },
   "file_extension": ".py",
   "mimetype": "text/x-python",
   "name": "python",
   "nbconvert_exporter": "python",
   "pygments_lexer": "ipython3",
   "version": "3.9.7"
  }
 },
 "nbformat": 4,
 "nbformat_minor": 5
}

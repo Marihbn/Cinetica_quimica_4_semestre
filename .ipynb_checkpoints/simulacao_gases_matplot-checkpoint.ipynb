{
 "cells": [
  {
   "cell_type": "code",
   "execution_count": 1,
   "source": [
    "from simulacao_gases_matplot import Sistema\r\n",
    "import imageio"
   ],
   "outputs": [],
   "metadata": {}
  },
  {
   "cell_type": "code",
   "execution_count": 2,
   "source": [
    "Sistema_particulas = Sistema(1000000, 360000, 10, 15, 15, 10)\r\n",
    "\r\n",
    "N = 2000\r\n",
    "\r\n",
    "for i in range(N):\r\n",
    "    Sistema_particulas.main(0.001, 100, i)"
   ],
   "outputs": [
    {
     "output_type": "stream",
     "name": "stdout",
     "text": [
      "reagiu\n",
      "reagiu\n",
      "reagiu\n",
      "reagiu\n",
      "reagiu\n",
      "reagiu\n",
      "reagiu\n",
      "reagiu\n",
      "reagiu\n",
      "reagiu\n"
     ]
    }
   ],
   "metadata": {}
  },
  {
   "cell_type": "code",
   "execution_count": 3,
   "source": [
    "frames = []\r\n",
    "for i in range(N):\r\n",
    "    image = imageio.imread(f'./GIF - Simulação Gases/Imagem {i}.jpg')\r\n",
    "    frames.append(image)"
   ],
   "outputs": [],
   "metadata": {}
  },
  {
   "cell_type": "code",
   "execution_count": 4,
   "source": [
    "imageio.mimsave('./simulacao.gif', # output gif\r\n",
    "                frames,          # array of input frames\r\n",
    "                duration = 0.02)         # optional: frames per second"
   ],
   "outputs": [],
   "metadata": {}
  }
 ],
 "metadata": {
  "kernelspec": {
   "display_name": "ilumpy",
   "language": "python",
   "name": "ilumpy"
  },
  "language_info": {
   "codemirror_mode": {
    "name": "ipython",
    "version": 3
   },
   "file_extension": ".py",
   "mimetype": "text/x-python",
   "name": "python",
   "nbconvert_exporter": "python",
   "pygments_lexer": "ipython3",
   "version": "3.9.7"
  }
 },
 "nbformat": 4,
 "nbformat_minor": 5
}
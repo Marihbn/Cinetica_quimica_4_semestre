{
 "cells": [
  {
   "cell_type": "code",
   "execution_count": 1,
   "id": "b211f893",
   "metadata": {},
   "outputs": [],
   "source": [
    "from simulacao_gases_matplot import Sistema\\n",
    "import imageio"
   ]
  },
  {
   "cell_type": "code",
   "execution_count": 2,
   "id": "fe7a1586",
   "metadata": {},
   "outputs": [
    {
     "name": "stdout",
     "output_type": "stream",
     "text": [
      "reagiu\n",
      "reagiu\n",
      "reagiu\n",
      "reagiu\n",
      "reagiu\n",
      "reagiu\n",
      "reagiu\n",
      "reagiu\n",
      "reagiu\n",
      "reagiu\n"
     ]
    }
   ],
   "source": [
    "Sistema_particulas = Sistema(1000000, 360000, 10, 15, 15, 10)\\n",
    "\\n",
    "N = 2000\\n",
    "\\n",
    "for i in range(N):\\n",
    "    Sistema_particulas.main(0.001, 100, i)"
   ]
  },
  {
   "cell_type": "code",
   "execution_count": 3,
   "id": "06367229",
   "metadata": {},
   "outputs": [],
   "source": [
    "frames = []\\n",
    "for i in range(N):\\n",
    "    image = imageio.imread(f'./GIF - Simulação Gases/Imagem {i}.jpg')\\n",
    "    frames.append(image)"
   ]
  },
  {
   "cell_type": "code",
   "execution_count": 4,
   "id": "351cd31c",
   "metadata": {},
   "outputs": [],
   "source": [
    "imageio.mimsave('./simulacao.gif', # output gif\\n",
    "                frames,          # array of input frames\\n",
    "                duration = 0.02)         # optional: frames per second"
   ]
  }
 ],
 "metadata": {
  "kernelspec": {
   "display_name": "ilumpy",
   "language": "python",
   "name": "ilumpy"
  },
  "language_info": {
   "codemirror_mode": {
    "name": "ipython",
    "version": 3
   },
   "file_extension": ".py",
   "mimetype": "text/x-python",
   "name": "python",
   "nbconvert_exporter": "python",
   "pygments_lexer": "ipython3",
   "version": "3.9.7"
  }
 },
 "nbformat": 4,
 "nbformat_minor": 5
}

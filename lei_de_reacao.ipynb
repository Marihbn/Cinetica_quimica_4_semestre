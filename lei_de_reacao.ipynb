{
 "cells": [
  {
   "cell_type": "code",
   "execution_count": 1,
   "id": "a6c0cdb8-936c-43c5-805b-ca325953a521",
   "metadata": {},
   "outputs": [],
   "source": [
    "import matplotlib.pyplot as plt\n",
    "import numpy as np\n",
    "from scipy.linalg import cho_factor, cho_solve"
   ]
  },
  {
   "cell_type": "markdown",
   "id": "208591bb-81a2-41f9-be85-4fb9ab4d5abd",
   "metadata": {},
   "source": [
    "## Determinando a lei da reação"
   ]
  },
  {
   "cell_type": "markdown",
   "id": "ffda3d1f-6245-4ff2-baca-50eb00cc1095",
   "metadata": {},
   "source": [
    "A lei de reação será determinada a partir da análise da $\\frac{d[A]}{dt}$, a partir da admissão de que o sistema será ditado por uma lei de potência:\n",
    "\n",
    "$\n",
    "\\frac{d[A]}{dt} = k [A]^m [B]^n\n",
    "$\n",
    "\n",
    "Admitindo a reação:\n",
    "\n",
    "$\n",
    "A + B \\rightarrow C\n",
    "$\n",
    "\n",
    "Ou seja, será feito uma regressão linear de ordem 3 para a definição de uma função polinomial que descreva a variação temporal do númeo de partículas A $[A](t)$. Em seguida, a expressão encontrada será derivada para encontrar uma expressão para $\\frac{d[A]}{dt} (t)$."
   ]
  },
  {
   "cell_type": "code",
   "execution_count": 21,
   "id": "807edce3-9be4-40f9-800c-687c21e451be",
   "metadata": {},
   "outputs": [],
   "source": [
    "# ordem da regressão\n",
    "H = 10\n",
    "\n",
    "b = np.transpose(np.load('concentracoes.npy')[0])\n",
    "tempo = np.arange(0, len(b), 1)\n",
    "A = np.zeros(((H+1), len(b)))\n",
    "for i in range(H+1):\n",
    "    A[i] = tempo**i\n",
    "    \n",
    "A = np.transpose(A)"
   ]
  },
  {
   "cell_type": "code",
   "execution_count": 22,
   "id": "27372b11-469d-4ba9-8f8d-f9cd52a2a27d",
   "metadata": {
    "tags": []
   },
   "outputs": [
    {
     "data": {
      "text/plain": [
       "array([80, 79, 78, 78, 77, 77, 76, 75, 74, 74, 73, 73, 73, 73, 73, 73, 73,\n",
       "       73, 72, 72, 72, 72, 72, 71, 71, 71, 71, 70, 69, 69, 69, 68, 67, 67,\n",
       "       67, 65, 65, 65, 65, 65, 65, 65, 64, 64, 64, 63, 63, 63, 63, 63, 63,\n",
       "       63, 63, 63, 63, 63, 63, 63, 63, 63, 62, 62, 61, 61, 61, 61, 61, 60,\n",
       "       58, 58, 58, 58, 58, 57, 57, 57, 57, 57, 57, 57, 56, 56, 56, 56, 55,\n",
       "       55, 54, 54, 52, 52, 51, 51, 51, 51, 50, 50, 50, 50, 50, 50, 50, 49,\n",
       "       49, 49, 49, 49, 49, 49, 49, 49, 49, 49, 48, 48, 48, 48, 48, 48, 48,\n",
       "       48, 48, 48, 48, 48, 47, 46, 46, 46, 46, 46, 46, 46, 46, 46, 46, 46,\n",
       "       46, 45, 45, 45, 44, 43, 42, 42, 42, 41, 41, 41, 41, 41, 40, 40, 39,\n",
       "       39, 39, 39, 39, 39, 39, 39, 39, 39, 39, 39, 39, 38, 38, 37, 37, 37,\n",
       "       37, 37, 37, 37, 37, 37, 37, 37, 37, 37, 37, 37, 37, 37, 37, 36, 36,\n",
       "       36, 36, 36, 36, 36, 36, 36, 36, 35, 35, 35, 35, 35, 35])"
      ]
     },
     "execution_count": 22,
     "metadata": {},
     "output_type": "execute_result"
    }
   ],
   "source": [
    "b"
   ]
  },
  {
   "cell_type": "code",
   "execution_count": 23,
   "id": "e625276d-5722-4511-b6e9-58b69c5a097f",
   "metadata": {},
   "outputs": [
    {
     "data": {
      "text/plain": [
       "array([[ 1.00000000e+00,  0.00000000e+00,  0.00000000e+00, ...,\n",
       "         0.00000000e+00,  0.00000000e+00,  0.00000000e+00],\n",
       "       [ 1.00000000e+00,  1.00000000e+00,  1.00000000e+00, ...,\n",
       "         1.00000000e+00,  1.00000000e+00,  1.00000000e+00],\n",
       "       [ 1.00000000e+00,  2.00000000e+00,  4.00000000e+00, ...,\n",
       "         2.56000000e+02,  5.12000000e+02,  1.02400000e+03],\n",
       "       ...,\n",
       "       [ 1.00000000e+00,  1.98000000e+02,  3.92040000e+04, ...,\n",
       "         1.27786214e+09, -3.86365952e+08,  8.08952832e+08],\n",
       "       [ 1.00000000e+00,  1.99000000e+02,  3.96010000e+04, ...,\n",
       "         2.15943050e+07,  2.29939900e+06,  4.57580401e+08],\n",
       "       [ 1.00000000e+00,  2.00000000e+02,  4.00000000e+04, ...,\n",
       "        -1.05696461e+09, -9.39524096e+08,  1.07374182e+09]])"
      ]
     },
     "execution_count": 23,
     "metadata": {},
     "output_type": "execute_result"
    }
   ],
   "source": [
    "A"
   ]
  },
  {
   "cell_type": "code",
   "execution_count": 24,
   "id": "7bab3e96-d703-41b6-9adc-a78d97fab470",
   "metadata": {},
   "outputs": [
    {
     "name": "stderr",
     "output_type": "stream",
     "text": [
      "C:\\Users\\GABRIE~1\\AppData\\Local\\Temp/ipykernel_7204/4215769880.py:1: FutureWarning: `rcond` parameter will change to the default of machine precision times ``max(M, N)`` where M and N are the input matrix dimensions.\n",
      "To use the future default and silence this warning we advise to pass `rcond=None`, to keep using the old, explicitly pass `rcond=-1`.\n",
      "  x = np.linalg.lstsq(A, b, rcond='warn')[0]\n"
     ]
    }
   ],
   "source": [
    "x = np.linalg.lstsq(A, b, rcond='warn')[0]"
   ]
  },
  {
   "cell_type": "code",
   "execution_count": 25,
   "id": "725bd453-1d8f-48df-8f5c-6f28d75e8e66",
   "metadata": {},
   "outputs": [
    {
     "data": {
      "text/plain": [
       "<function matplotlib.pyplot.plot(*args, scalex=True, scaley=True, data=None, **kwargs)>"
      ]
     },
     "execution_count": 25,
     "metadata": {},
     "output_type": "execute_result"
    },
    {
     "data": {
      "image/png": "[encoded data removed]",
      "text/plain": [
       "<Figure size 432x288 with 1 Axes>"
      ]
     },
     "metadata": {
      "needs_background": "light"
     },
     "output_type": "display_data"
    }
   ],
   "source": [
    "conc_A = 0\n",
    "\n",
    "for i in range(H+1):\n",
    "    conc_A += x[i]*tempo**i\n",
    "\n",
    "fig = plt.figure()\n",
    "\n",
    "plt.scatter(tempo, b)\n",
    "\n",
    "plt.plot(tempo, conc_A, c='r')\n",
    "\n",
    "plt.plot"
   ]
  }
 ],
 "metadata": {
  "kernelspec": {
   "display_name": "ilumpy",
   "language": "python",
   "name": "ilumpy"
  },
  "language_info": {
   "codemirror_mode": {
    "name": "ipython",
    "version": 3
   },
   "file_extension": ".py",
   "mimetype": "text/x-python",
   "name": "python",
   "nbconvert_exporter": "python",
   "pygments_lexer": "ipython3",
   "version": "3.9.7"
  }
 },
 "nbformat": 4,
 "nbformat_minor": 5
}
